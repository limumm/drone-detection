{
 "cells": [
  {
   "cell_type": "code",
   "execution_count": 1,
   "metadata": {},
   "outputs": [],
   "source": [
    "import os\n",
    "import json\n",
    "\n",
    "# target_directory = \"./无人机检测与追踪/train\"  # 设置目标文件夹为当前目录下的所有文件夹\n",
    "# count = 1\n",
    "\n",
    "# for dir_name in sorted(os.listdir(target_directory)):\n",
    "#     if os.path.isdir(os.path.join(target_directory, dir_name)):\n",
    "#         new_name = f\"drone-{count}\"\n",
    "#         os.rename(os.path.join(target_directory, dir_name), os.path.join(target_directory, new_name))\n",
    "#         count += 1\n"
   ]
  },
  {
   "cell_type": "code",
   "execution_count": 6,
   "metadata": {},
   "outputs": [],
   "source": [
    "# 输出visible.txt文件\n",
    "target_directory = \"./无人机检测与追踪/train\"  # 设置目标文件夹为当前目录下的所有文件夹\n",
    "file_name = \"IR_label.json\"\n",
    "for dir_name in sorted(os.listdir(target_directory)):\n",
    "    if os.path.isdir(os.path.join(target_directory, dir_name)):\n",
    "        with open(os.path.join(target_directory, dir_name, file_name), \"r\") as f:\n",
    "            data = json.load(f)\n",
    "            exist_list = data.get(\"exist\", [])\n",
    "            exist_str = \",\".join(map(str, exist_list))\n",
    "            with open(os.path.join(target_directory, dir_name, \"visible.txt\"), \"w\") as f2:\n",
    "                f2.write(exist_str)\n",
    "\n"
   ]
  },
  {
   "cell_type": "code",
   "execution_count": 5,
   "metadata": {},
   "outputs": [],
   "source": [
    "import os\n",
    "import json\n",
    "# 输出groundtruth.txt文件\n",
    "target_directory = \"./无人机检测与追踪/train/drone\"  # 设置目标文件夹为当前目录下的所有文件夹\n",
    "file_name = \"IR_label.json\"\n",
    "for dir_name in sorted(os.listdir(target_directory)):\n",
    "    if os.path.isdir(os.path.join(target_directory, dir_name)):\n",
    "        with open(os.path.join(target_directory, dir_name, file_name), \"r\") as f:\n",
    "            data = json.load(f)\n",
    "        output_lines = []\n",
    "        for item in data['gt_rect']:\n",
    "            if item:\n",
    "                output_lines.append(','.join(map(str, item)))\n",
    "            else:\n",
    "                output_lines.append('0,0,0,0')\n",
    "        with open(os.path.join(target_directory, dir_name, \"groundtruth.txt\"), \"w\") as f2:\n",
    "            f2.write('\\n'.join(output_lines))"
   ]
  }
 ],
 "metadata": {
  "kernelspec": {
   "display_name": "Python 3",
   "language": "python",
   "name": "python3"
  },
  "language_info": {
   "codemirror_mode": {
    "name": "ipython",
    "version": 3
   },
   "file_extension": ".py",
   "mimetype": "text/x-python",
   "name": "python",
   "nbconvert_exporter": "python",
   "pygments_lexer": "ipython3",
   "version": "3.11.3"
  },
  "orig_nbformat": 4
 },
 "nbformat": 4,
 "nbformat_minor": 2
}
