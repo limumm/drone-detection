{
 "cells": [
  {
   "cell_type": "code",
   "execution_count": 1,
   "metadata": {},
   "outputs": [],
   "source": [
    "import cv2\n",
    "import numpy as np\n",
    "import json\n",
    "img = cv2.imread('/home/limumu/Desktop/mouse/mouse/mouse-20/img/00000125.jpg')\n",
    "gt_path = '/home/limumu/Desktop/mouse/mouse/mouse-20/groundtruth.txt'\n",
    "gt = np.loadtxt(gt_path, delimiter=',')\n",
    "gt = gt.astype(np.int32)\n",
    "bbx = gt[124]\n",
    "img = cv2.imread('/media/limumu/ADC4EA8E9E19D40E/DDProj/无人机检测与追踪/train/drone-2/000013.jpg')\n",
    "gt_path = '/media/limumu/ADC4EA8E9E19D40E/DDProj/无人机检测与追踪/train/drone-2/IR_label.json'\n",
    "with open (gt_path, 'r') as f:\n",
    "    gt = json.load(f)\n"
   ]
  },
  {
   "cell_type": "code",
   "execution_count": 3,
   "metadata": {},
   "outputs": [],
   "source": [
    "bbx = gt['gt_rect'][12]\n",
    "# 画出bbx和img\n",
    "cv2.rectangle(img, (bbx[0], bbx[1]), (bbx[0]+bbx[2], bbx[1]+bbx[3]), (0, 255, 0), 2)\n",
    "cv2.imshow('img', img)\n",
    "cv2.waitKey(0)"
   ]
  },
  {
   "cell_type": "code",
   "execution_count": null,
   "metadata": {},
   "outputs": [],
   "source": []
  }
 ],
 "metadata": {
  "kernelspec": {
   "display_name": "Python 3",
   "language": "python",
   "name": "python3"
  },
  "language_info": {
   "codemirror_mode": {
    "name": "ipython",
    "version": 3
   },
   "file_extension": ".py",
   "mimetype": "text/x-python",
   "name": "python",
   "nbconvert_exporter": "python",
   "pygments_lexer": "ipython3",
   "version": "3.11.3"
  },
  "orig_nbformat": 4
 },
 "nbformat": 4,
 "nbformat_minor": 2
}
