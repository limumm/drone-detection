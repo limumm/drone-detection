{
 "cells": [
  {
   "cell_type": "code",
   "execution_count": 1,
   "metadata": {},
   "outputs": [],
   "source": [
    "import os\n",
    "\n",
    "# 获取当前工作目录\n",
    "current_dir = os.getcwd()\n",
    "\n",
    "# 拼接需要读取的文件夹路径\n",
    "folder_path = os.path.join(current_dir, \"无人机检测与追踪\", \"train\", \"drone\")\n",
    "\n",
    "# 遍历文件夹下的所有子文件夹\n",
    "for subdir in os.listdir(folder_path):\n",
    "    # 拼接子文件夹路径\n",
    "    subdir_path = os.path.join(folder_path, subdir)\n",
    "    # 判断子文件夹是否存在\n",
    "    if os.path.isdir(subdir_path):\n",
    "        # 拼接需要改名的文件路径\n",
    "        old_file_path = os.path.join(subdir_path, \"visible.txt\")\n",
    "        # 判断文件是否存在\n",
    "        if os.path.isfile(old_file_path):\n",
    "            # 拼接新文件名\n",
    "            new_file_name = subdir + \".txt\"\n",
    "            new_file_path = os.path.join(subdir_path, new_file_name)\n",
    "            # 改名\n",
    "            os.rename(old_file_path, new_file_path)\n"
   ]
  },
  {
   "cell_type": "code",
   "execution_count": 4,
   "metadata": {},
   "outputs": [],
   "source": [
    "# 创建新目录lasot_parody\n",
    "# lasot_parody\n",
    "#  - annos\n",
    "#    - visible\n",
    "#      - drone-1.txt\n",
    "#      - drone-2.txt\n",
    "#      ...\n",
    "#  - images\n",
    "#    - drone1\n",
    "#    - drone2\n",
    "#    ...\n",
    "os.mkdir(\"lasot_parody\")\n",
    "os.mkdir(\"lasot_parody/annos\")\n",
    "os.mkdir(\"lasot_parody/images\")\n",
    "\n",
    "# 移动drone-xx.txt文件\n",
    "folder_path = os.path.join(current_dir, \"无人机检测与追踪\", \"train\", \"drone\")\n",
    "for subdir in os.listdir(folder_path):\n",
    "    # 拼接子文件夹路径\n",
    "    subdir_path = os.path.join(folder_path, subdir)\n",
    "    # 判断子文件夹是否存在\n",
    "    if os.path.isdir(subdir_path):\n",
    "        # 拼接需要移动的文件路径\n",
    "        old_file_path = os.path.join(subdir_path, f\"{subdir}.txt\")\n",
    "        new_file_name = f\"{subdir}.txt\"\n",
    "        new_path = \"lasot_parody/annos\"\n",
    "        # 判断文件是否存在\n",
    "        if os.path.isfile(old_file_path):\n",
    "            # 移动（复制）文件\n",
    "            new_file_path = os.path.join(new_path, new_file_name)\n",
    "            # 改名\n",
    "            os.rename(old_file_path, new_file_path)"
   ]
  },
  {
   "cell_type": "code",
   "execution_count": 7,
   "metadata": {},
   "outputs": [],
   "source": [
    "import shutil\n",
    "# 移动（复制）视频文件夹drone-xx到lasot_parody/images\n",
    "# 移动drone-xx.txt文件\n",
    "source_directory = os.path.join(current_dir, \"无人机检测与追踪\", \"train\", \"drone\")\n",
    "destination_directory = \"lasot_parody/images\"\n",
    "# 获取源目录下的所有子文件夹列表\n",
    "subdirectories = [subdir for subdir in os.listdir(source_directory) if os.path.isdir(os.path.join(source_directory, subdir))]\n",
    "\n",
    "# 遍历每个子文件夹，复制到目标目录\n",
    "for subdir in subdirectories:\n",
    "    source_path = os.path.join(source_directory, subdir)\n",
    "    destination_path = os.path.join(destination_directory, subdir)\n",
    "    \n",
    "    # 创建目标文件夹（如果不存在）\n",
    "    # os.makedirs(destination_path, exist_ok=True)\n",
    "    \n",
    "    # 复制源文件夹的内容到目标文件夹\n",
    "    shutil.copytree(source_path, destination_path)\n",
    "\n",
    "print(\"复制完成！\")"
   ]
  },
  {
   "cell_type": "code",
   "execution_count": 1,
   "metadata": {},
   "outputs": [],
   "source": [
    "# 生成testing_set.txt和training_set.txt\n",
    "import random\n",
    "\n",
    "# generate 30 random numbers between 1 and 150\n",
    "testing_set = set(random.sample(range(1, 151), 30))\n",
    "\n",
    "# create lists for training and testing sets\n",
    "training_set = [f\"drone-{i}\" for i in range(1, 151) if i not in testing_set]\n",
    "testing_set = [f\"drone-{i}\" for i in testing_set]\n",
    "\n",
    "# write training set to file\n",
    "with open(\"./lasot_parody/training_set.txt\", \"w\") as f:\n",
    "    f.write(\"\\n\".join(training_set))\n",
    "\n",
    "# write testing set to file\n",
    "with open(\"./lasot_parody/testing_set.txt\", \"w\") as f:\n",
    "    f.write(\"\\n\".join(testing_set))\n"
   ]
  },
  {
   "cell_type": "code",
   "execution_count": 4,
   "metadata": {},
   "outputs": [],
   "source": [
    "import os\n",
    "import numpy as np\n",
    "import os\n",
    "import numpy as np\n",
    "\n"
   ]
  },
  {
   "cell_type": "code",
   "execution_count": null,
   "metadata": {},
   "outputs": [],
   "source": [
    "visible = np.loadtxt(\"/media/limumu/ADC4EA8E9E19D40E/DDProj/lasot_parody/annos/visible/test.txt\")"
   ]
  },
  {
   "cell_type": "code",
   "execution_count": 21,
   "metadata": {},
   "outputs": [],
   "source": [
    "visible = np.genfromtxt(\"/media/limumu/ADC4EA8E9E19D40E/DDProj/lasot_parody/annos/visible/drone-119.txt\", delimiter=\",\")\n"
   ]
  },
  {
   "cell_type": "code",
   "execution_count": 11,
   "metadata": {},
   "outputs": [],
   "source": [
    "gt_list = np.loadtxt('/media/limumu/ADC4EA8E9E19D40E/DDProj/lasot_parody/images/drone-119/groundtruth.txt', delimiter=',')\n",
    "gt_list = gt_list.reshape(-1, 4)"
   ]
  },
  {
   "cell_type": "code",
   "execution_count": 16,
   "metadata": {},
   "outputs": [],
   "source": [
    "img_list = sorted(os.listdir(\"/media/limumu/ADC4EA8E9E19D40E/DDProj/lasot_parody/images/drone-119\"))\n",
    "\n",
    "img_list = [img_file for img_file in img_list if img_file.endswith('.jpg')]"
   ]
  },
  {
   "cell_type": "code",
   "execution_count": 23,
   "metadata": {},
   "outputs": [],
   "source": [
    "slf_img_list = img_list[:gt_list.shape[0]]\n"
   ]
  },
  {
   "cell_type": "code",
   "execution_count": 28,
   "metadata": {},
   "outputs": [],
   "source": [
    "slf_img_list = [img for i, img in enumerate(slf_img_list) if visible[i] == 1]\n"
   ]
  },
  {
   "cell_type": "code",
   "execution_count": 29,
   "metadata": {},
   "outputs": [
    {
     "data": {
      "text/plain": [
       "'000001.jpg'"
      ]
     },
     "execution_count": 29,
     "metadata": {},
     "output_type": "execute_result"
    }
   ],
   "source": [
    "slf_img_list[0]"
   ]
  }
 ],
 "metadata": {
  "kernelspec": {
   "display_name": "Python 3",
   "language": "python",
   "name": "python3"
  },
  "language_info": {
   "codemirror_mode": {
    "name": "ipython",
    "version": 3
   },
   "file_extension": ".py",
   "mimetype": "text/x-python",
   "name": "python",
   "nbconvert_exporter": "python",
   "pygments_lexer": "ipython3",
   "version": "3.11.3"
  },
  "orig_nbformat": 4
 },
 "nbformat": 4,
 "nbformat_minor": 2
}
