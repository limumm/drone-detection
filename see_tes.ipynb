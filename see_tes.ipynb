{
 "cells": [
  {
   "cell_type": "code",
   "execution_count": null,
   "metadata": {},
   "outputs": [],
   "source": [
    "# 查看图像和锚框结果\n",
    "import cv2\n",
    "import numpy as np\n",
    "import matplotlib.pyplot as plt\n",
    "img = cv2.imread('./dataset/images/train/012278.jpg')\n",
    "img = cv2.cvtColor(img, cv2.COLOR_BGR2RGB)\n",
    "bbox = np.loadtxt('./dataset/labels/train/012278.txt').reshape(-1, 5)\n",
    "for x_center, y_center, width, height in bbox:\n",
    "    x1 = int((x_center - width / 2) * 640)\n",
    "    y1 = int((y_center - height / 2) * 640)\n",
    "    x2 = int((x_center + width / 2) * 640)\n",
    "    y2 = int((y_center + height / 2) * 640)\n",
    "    cv2.rectangle(img, (x1, y1), (x2, y2), (0, 255, 0), 2)\n",
    "plt.imshow(img)\n",
    "plt.show()"
   ]
  }
 ],
 "metadata": {
  "kernelspec": {
   "display_name": "Python 3",
   "language": "python",
   "name": "python3"
  },
  "language_info": {
   "name": "python",
   "version": "3.11.2"
  },
  "orig_nbformat": 4
 },
 "nbformat": 4,
 "nbformat_minor": 2
}
