{
 "cells": [
  {
   "cell_type": "code",
   "execution_count": 8,
   "metadata": {},
   "outputs": [],
   "source": [
    "import os\n",
    "import json\n",
    "import shutil\n",
    "from multiprocessing import Pool, Manager\n",
    "# 创建dataset文件夹\n",
    "if not os.path.exists('dataset/train'):\n",
    "    os.mkdir('dataset/train')\n",
    "if not os.path.exists('dataset/train/imgs'):\n",
    "    os.mkdir('dataset/train/imgs')\n",
    "if not os.path.exists('dataset/train/labels'):\n",
    "    os.mkdir('dataset/train/labels')"
   ]
  },
  {
   "cell_type": "code",
   "execution_count": 9,
   "metadata": {},
   "outputs": [],
   "source": [
    "def process_folder(source_folder, target_folder, image_count):\n",
    "    \n",
    "    json_file_path = os.path.join(source_folder, \"IR_label.json\")\n",
    "    label_folder = os.path.join(target_folder, \"labels\")\n",
    "    image_folder_path = os.path.join(target_folder, \"imgs\")\n",
    "    if not os.path.exists(label_folder):\n",
    "        os.makedirs(label_folder)\n",
    "\n",
    "    with open(json_file_path, \"r\") as json_file:\n",
    "        data = json.load(json_file)\n",
    "        exist_list = data[\"exist\"]\n",
    "        gt_rect_list = data[\"gt_rect\"]\n",
    "\n",
    "    for i, (exist, gt_rect) in enumerate(zip(exist_list, gt_rect_list), 1):\n",
    "        image_name = str(image_count.value).zfill(6) + \".jpg\"\n",
    "        txt_name = str(image_count.value).zfill(6) + \".txt\"\n",
    "        print(f\"Processing {image_name}\")\n",
    "        image_count.value += 1\n",
    "\n",
    "        image_path = os.path.join(source_folder, f\"{i:06}.jpg\")\n",
    "        target_image_path = os.path.join(image_folder_path, image_name)\n",
    "\n",
    "        shutil.copy(image_path, target_image_path)\n",
    "\n",
    "        if exist == 1:\n",
    "            txt_file_path = os.path.join(label_folder, txt_name)\n",
    "            with open(txt_file_path, \"w\") as txt_file:\n",
    "                x_center = (gt_rect[0] + gt_rect[2] / 2) / 640\n",
    "                y_center = (gt_rect[1] + gt_rect[3] / 2) / 512\n",
    "                width = gt_rect[2] / 640\n",
    "                height = gt_rect[3] / 512\n",
    "                txt_file.write(f\"0 {x_center:.6f} {y_center:.6f} {width:.6f} {height:.6f}\\n\")"
   ]
  },
  {
   "cell_type": "code",
   "execution_count": 10,
   "metadata": {},
   "outputs": [],
   "source": [
    "if __name__ == \"__main__\":\n",
    "    \n",
    "    source_folder = './无人机检测与追踪/train/'\n",
    "    train_path = './dataset/train/'\n",
    "\n",
    "    if not os.path.exists(train_path):\n",
    "        os.makedirs(train_path)\n",
    "        \n",
    "    folders = [os.path.join(source_folder, folder_name) for folder_name in os.listdir(source_folder) if os.path.isdir(os.path.join(source_folder, folder_name))]\n",
    "    \n",
    "    manager = Manager()\n",
    "    image_count = manager.Value('i', 1)\n",
    "\n",
    "    with Pool(processes=os.cpu_count()) as pool:\n",
    "        pool.starmap(process_folder, [(folder, train_path, image_count) for folder in folders])"
   ]
  }
 ],
 "metadata": {
  "kernelspec": {
   "display_name": "Python 3",
   "language": "python",
   "name": "python3"
  },
  "language_info": {
   "codemirror_mode": {
    "name": "ipython",
    "version": 3
   },
   "file_extension": ".py",
   "mimetype": "text/x-python",
   "name": "python",
   "nbconvert_exporter": "python",
   "pygments_lexer": "ipython3",
   "version": "3.11.2"
  },
  "orig_nbformat": 4
 },
 "nbformat": 4,
 "nbformat_minor": 2
}
